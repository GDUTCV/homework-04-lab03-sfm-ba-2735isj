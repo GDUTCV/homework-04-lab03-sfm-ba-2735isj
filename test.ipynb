{
 "cells": [
  {
   "cell_type": "code",
   "execution_count": 1,
   "id": "7068e5ba",
   "metadata": {},
   "outputs": [],
   "source": [
    "import numpy as np"
   ]
  },
  {
   "cell_type": "code",
   "execution_count": 2,
   "id": "global-switzerland",
   "metadata": {},
   "outputs": [],
   "source": [
    "points2d = np.array([[1, 1], [2, 2], [3, 3], [4, 4], [5, 5], [6, 6]])"
   ]
  },
  {
   "cell_type": "code",
   "execution_count": 3,
   "id": "interested-packaging",
   "metadata": {},
   "outputs": [],
   "source": [
    "points3d = np.array([[1, 1, 1], [2, 2, 2], [3, 3, 3]])"
   ]
  },
  {
   "cell_type": "code",
   "execution_count": 4,
   "id": "annual-probe",
   "metadata": {},
   "outputs": [],
   "source": [
    "points3d_idxs = np.array([0, 0, 1])"
   ]
  },
  {
   "cell_type": "code",
   "execution_count": 5,
   "id": "inappropriate-harbor",
   "metadata": {},
   "outputs": [],
   "source": [
    "camera_idxs = np.array([0, 1, 2])"
   ]
  },
  {
   "cell_type": "code",
   "execution_count": 6,
   "id": "electric-joyce",
   "metadata": {},
   "outputs": [],
   "source": [
    "P = np.arange(72).reshape((6, 3, 4))"
   ]
  },
  {
   "cell_type": "code",
   "execution_count": 7,
   "id": "macro-juice",
   "metadata": {},
   "outputs": [],
   "source": [
    "selected_points3d = points3d[points3d_idxs]"
   ]
  },
  {
   "cell_type": "code",
   "execution_count": 8,
   "id": "favorite-customer",
   "metadata": {},
   "outputs": [
    {
     "name": "stdout",
     "output_type": "stream",
     "text": [
      "[[1 1 1]\n",
      " [1 1 1]\n",
      " [2 2 2]]\n"
     ]
    }
   ],
   "source": [
    "print(selected_points3d)"
   ]
  },
  {
   "cell_type": "code",
   "execution_count": 9,
   "id": "involved-geometry",
   "metadata": {},
   "outputs": [
    {
     "name": "stdout",
     "output_type": "stream",
     "text": [
      "[[[ 0  1  2  3]\n",
      "  [ 4  5  6  7]\n",
      "  [ 8  9 10 11]]\n",
      "\n",
      " [[12 13 14 15]\n",
      "  [16 17 18 19]\n",
      "  [20 21 22 23]]\n",
      "\n",
      " [[24 25 26 27]\n",
      "  [28 29 30 31]\n",
      "  [32 33 34 35]]\n",
      "\n",
      " [[36 37 38 39]\n",
      "  [40 41 42 43]\n",
      "  [44 45 46 47]]\n",
      "\n",
      " [[48 49 50 51]\n",
      "  [52 53 54 55]\n",
      "  [56 57 58 59]]\n",
      "\n",
      " [[60 61 62 63]\n",
      "  [64 65 66 67]\n",
      "  [68 69 70 71]]]\n"
     ]
    }
   ],
   "source": [
    "print(P)"
   ]
  },
  {
   "cell_type": "code",
   "execution_count": 10,
   "id": "recreational-shock",
   "metadata": {},
   "outputs": [],
   "source": [
    "homo_3d_points = np.concatenate((selected_points3d, np.ones((selected_points3d.shape[0], 1))), axis=1)\n",
    "homo_3d_points_T = np.transpose(homo_3d_points)"
   ]
  },
  {
   "cell_type": "code",
   "execution_count": 11,
   "id": "recognized-bankruptcy",
   "metadata": {},
   "outputs": [
    {
     "data": {
      "text/plain": [
       "array([[1., 1., 2.],\n",
       "       [1., 1., 2.],\n",
       "       [1., 1., 2.],\n",
       "       [1., 1., 1.]])"
      ]
     },
     "execution_count": 11,
     "metadata": {},
     "output_type": "execute_result"
    }
   ],
   "source": [
    "homo_3d_points_T"
   ]
  },
  {
   "cell_type": "code",
   "execution_count": 12,
   "id": "backed-powder",
   "metadata": {},
   "outputs": [
    {
     "name": "stdout",
     "output_type": "stream",
     "text": [
      "[[[  6.   6.   9.]\n",
      "  [ 22.  22.  37.]\n",
      "  [ 38.  38.  65.]]\n",
      "\n",
      " [[ 54.  54.  93.]\n",
      "  [ 70.  70. 121.]\n",
      "  [ 86.  86. 149.]]\n",
      "\n",
      " [[102. 102. 177.]\n",
      "  [118. 118. 205.]\n",
      "  [134. 134. 233.]]\n",
      "\n",
      " [[150. 150. 261.]\n",
      "  [166. 166. 289.]\n",
      "  [182. 182. 317.]]\n",
      "\n",
      " [[198. 198. 345.]\n",
      "  [214. 214. 373.]\n",
      "  [230. 230. 401.]]\n",
      "\n",
      " [[246. 246. 429.]\n",
      "  [262. 262. 457.]\n",
      "  [278. 278. 485.]]]\n"
     ]
    }
   ],
   "source": [
    "calculated_points2d = np.matmul(P, homo_3d_points_T)\n",
    "print(calculated_points2d)"
   ]
  },
  {
   "cell_type": "code",
   "execution_count": 13,
   "id": "ultimate-marathon",
   "metadata": {},
   "outputs": [
    {
     "name": "stdout",
     "output_type": "stream",
     "text": [
      "[[  6.  22.  38.]\n",
      " [ 54.  70.  86.]\n",
      " [102. 118. 134.]]\n",
      "(3, 3)\n"
     ]
    }
   ],
   "source": [
    "calculated_points2d = calculated_points2d[camera_idxs, :, points3d_idxs]\n",
    "print(calculated_points2d)\n",
    "print(calculated_points2d.shape)\n",
    "calculated_points2d /= calculated_points2d[:, -1].reshape((calculated_points2d.shape[0], 1))\n",
    "calculated_points2d = calculated_points2d[:, :-1]"
   ]
  },
  {
   "cell_type": "code",
   "execution_count": 14,
   "id": "forbidden-comparative",
   "metadata": {},
   "outputs": [
    {
     "name": "stdout",
     "output_type": "stream",
     "text": [
      "[[0.15789474 0.57894737]\n",
      " [0.62790698 0.81395349]\n",
      " [0.76119403 0.88059701]]\n"
     ]
    }
   ],
   "source": [
    "print(calculated_points2d)"
   ]
  },
  {
   "cell_type": "code",
   "execution_count": 15,
   "id": "identical-synthetic",
   "metadata": {},
   "outputs": [
    {
     "ename": "IndexError",
     "evalue": "index 3 is out of bounds for axis 0 with size 3",
     "output_type": "error",
     "traceback": [
      "\u001b[0;31m---------------------------------------------------------------------------\u001b[0m",
      "\u001b[0;31mIndexError\u001b[0m                                Traceback (most recent call last)",
      "\u001b[0;32m<ipython-input-15-7ac33c1f49b9>\u001b[0m in \u001b[0;36m<module>\u001b[0;34m\u001b[0m\n\u001b[1;32m      1\u001b[0m \u001b[0mi\u001b[0m \u001b[0;34m=\u001b[0m \u001b[0;36m3\u001b[0m\u001b[0;34m\u001b[0m\u001b[0;34m\u001b[0m\u001b[0m\n\u001b[0;32m----> 2\u001b[0;31m \u001b[0mprint\u001b[0m\u001b[0;34m(\u001b[0m\u001b[0;34m\"calculated_points2d=\"\u001b[0m\u001b[0;34m,\u001b[0m \u001b[0mcalculated_points2d\u001b[0m\u001b[0;34m[\u001b[0m\u001b[0mi\u001b[0m\u001b[0;34m]\u001b[0m\u001b[0;34m)\u001b[0m\u001b[0;34m\u001b[0m\u001b[0;34m\u001b[0m\u001b[0m\n\u001b[0m\u001b[1;32m      3\u001b[0m \u001b[0mprint\u001b[0m\u001b[0;34m(\u001b[0m\u001b[0;34m\"camera_idxs[0]=\"\u001b[0m\u001b[0;34m,\u001b[0m \u001b[0mcamera_idxs\u001b[0m\u001b[0;34m[\u001b[0m\u001b[0mi\u001b[0m\u001b[0;34m]\u001b[0m\u001b[0;34m)\u001b[0m\u001b[0;34m\u001b[0m\u001b[0;34m\u001b[0m\u001b[0m\n\u001b[1;32m      4\u001b[0m \u001b[0mprint\u001b[0m\u001b[0;34m(\u001b[0m\u001b[0;34m\"camera =\"\u001b[0m\u001b[0;34m,\u001b[0m \u001b[0mP\u001b[0m\u001b[0;34m[\u001b[0m\u001b[0mcamera_idxs\u001b[0m\u001b[0;34m[\u001b[0m\u001b[0mi\u001b[0m\u001b[0;34m]\u001b[0m\u001b[0;34m]\u001b[0m\u001b[0;34m)\u001b[0m\u001b[0;34m\u001b[0m\u001b[0;34m\u001b[0m\u001b[0m\n\u001b[1;32m      5\u001b[0m \u001b[0mprint\u001b[0m\u001b[0;34m(\u001b[0m\u001b[0;34m\"points3d[0]=\"\u001b[0m\u001b[0;34m,\u001b[0m \u001b[0mpoints3d\u001b[0m\u001b[0;34m[\u001b[0m\u001b[0mpoints3d_idxs\u001b[0m\u001b[0;34m[\u001b[0m\u001b[0mi\u001b[0m\u001b[0;34m]\u001b[0m\u001b[0;34m]\u001b[0m\u001b[0;34m)\u001b[0m\u001b[0;34m\u001b[0m\u001b[0;34m\u001b[0m\u001b[0m\n",
      "\u001b[0;31mIndexError\u001b[0m: index 3 is out of bounds for axis 0 with size 3"
     ]
    }
   ],
   "source": [
    "i = 3\n",
    "print(\"calculated_points2d=\", calculated_points2d[i])\n",
    "print(\"camera_idxs[0]=\", camera_idxs[i])\n",
    "print(\"camera =\", P[camera_idxs[i]])\n",
    "print(\"points3d[0]=\", points3d[points3d_idxs[i]])\n",
    "\n",
    "print(\"point2d=\", points2d[i])"
   ]
  },
  {
   "cell_type": "code",
   "execution_count": null,
   "id": "widespread-shoot",
   "metadata": {},
   "outputs": [],
   "source": [
    "a = np.arange(1200).reshape((100, 3, 4))"
   ]
  },
  {
   "cell_type": "code",
   "execution_count": null,
   "id": "convenient-marketing",
   "metadata": {},
   "outputs": [],
   "source": [
    "b = np.arange(400).reshape((4, 100))"
   ]
  },
  {
   "cell_type": "code",
   "execution_count": null,
   "id": "chemical-baptist",
   "metadata": {},
   "outputs": [],
   "source": [
    "np.einsum('ijk,ki->ij',a,b)"
   ]
  },
  {
   "cell_type": "code",
   "execution_count": null,
   "id": "secondary-geology",
   "metadata": {},
   "outputs": [],
   "source": [
    "a"
   ]
  },
  {
   "cell_type": "code",
   "execution_count": null,
   "id": "egyptian-nashville",
   "metadata": {},
   "outputs": [],
   "source": [
    "b"
   ]
  },
  {
   "cell_type": "code",
   "execution_count": null,
   "id": "efficient-export",
   "metadata": {},
   "outputs": [],
   "source": []
  }
 ],
 "metadata": {
  "kernelspec": {
   "display_name": "Python 3",
   "language": "python",
   "name": "python3"
  },
  "language_info": {
   "codemirror_mode": {
    "name": "ipython",
    "version": 3
   },
   "file_extension": ".py",
   "mimetype": "text/x-python",
   "name": "python",
   "nbconvert_exporter": "python",
   "pygments_lexer": "ipython3",
   "version": "3.8.8"
  }
 },
 "nbformat": 4,
 "nbformat_minor": 5
}
